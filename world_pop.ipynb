{
 "cells": [
  {
   "cell_type": "markdown",
   "metadata": {},
   "source": [
    "# Reading Tables From HTML Files.\n",
    "\n",
    "While practicing a little of what I've been learning about pandas and matplotlib"
   ]
  },
  {
   "cell_type": "code",
   "execution_count": 5,
   "metadata": {},
   "outputs": [],
   "source": [
    "import numpy as np\n",
    "import pandas as pd\n",
    "import matplotlib.pyplot as plt\n",
    "import seaborn as sns \n",
    "plt.style.use('seaborn-whitegrid')\n",
    "\n",
    "sns.set()\n",
    "\n",
    "%matplotlib inline \n"
   ]
  },
  {
   "cell_type": "code",
   "execution_count": 6,
   "metadata": {},
   "outputs": [],
   "source": [
    "# Save url into a variable\n",
    "url = \"https://en.wikipedia.org/wiki/World_population\""
   ]
  },
  {
   "cell_type": "markdown",
   "metadata": {},
   "source": [
    "It took quite some time to read all the ``tables``.<br/>\n",
    "> About *34s* the first time."
   ]
  },
  {
   "cell_type": "code",
   "execution_count": 7,
   "metadata": {},
   "outputs": [],
   "source": [
    "dfs = pd.read_html(url) # reads all tables in the html file into respective data frames."
   ]
  },
  {
   "cell_type": "code",
   "execution_count": 8,
   "metadata": {},
   "outputs": [
    {
     "data": {
      "text/plain": [
       "26"
      ]
     },
     "execution_count": 8,
     "metadata": {},
     "output_type": "execute_result"
    }
   ],
   "source": [
    "len(dfs) # wow! 26 tables on this page."
   ]
  },
  {
   "cell_type": "markdown",
   "metadata": {},
   "source": [
    "I'll have a look through the first data frame."
   ]
  },
  {
   "cell_type": "code",
   "execution_count": 9,
   "metadata": {},
   "outputs": [],
   "source": [
    "df1 = dfs[0] # selecting the first dataframe."
   ]
  },
  {
   "cell_type": "code",
   "execution_count": 10,
   "metadata": {},
   "outputs": [
    {
     "data": {
      "text/html": [
       "<div>\n",
       "<style scoped>\n",
       "    .dataframe tbody tr th:only-of-type {\n",
       "        vertical-align: middle;\n",
       "    }\n",
       "\n",
       "    .dataframe tbody tr th {\n",
       "        vertical-align: top;\n",
       "    }\n",
       "\n",
       "    .dataframe thead th {\n",
       "        text-align: right;\n",
       "    }\n",
       "</style>\n",
       "<table border=\"1\" class=\"dataframe\">\n",
       "  <thead>\n",
       "    <tr style=\"text-align: right;\">\n",
       "      <th></th>\n",
       "      <th>#</th>\n",
       "      <th>Most populous countries</th>\n",
       "      <th>2000</th>\n",
       "      <th>2015</th>\n",
       "      <th>2030[A]</th>\n",
       "    </tr>\n",
       "  </thead>\n",
       "  <tbody>\n",
       "    <tr>\n",
       "      <th>0</th>\n",
       "      <td>1</td>\n",
       "      <td>China[B]</td>\n",
       "      <td>1270</td>\n",
       "      <td>1376</td>\n",
       "      <td>1416</td>\n",
       "    </tr>\n",
       "    <tr>\n",
       "      <th>1</th>\n",
       "      <td>2</td>\n",
       "      <td>India</td>\n",
       "      <td>1053</td>\n",
       "      <td>1311</td>\n",
       "      <td>1528</td>\n",
       "    </tr>\n",
       "    <tr>\n",
       "      <th>2</th>\n",
       "      <td>3</td>\n",
       "      <td>United States</td>\n",
       "      <td>283</td>\n",
       "      <td>322</td>\n",
       "      <td>356</td>\n",
       "    </tr>\n",
       "    <tr>\n",
       "      <th>3</th>\n",
       "      <td>4</td>\n",
       "      <td>Indonesia</td>\n",
       "      <td>212</td>\n",
       "      <td>258</td>\n",
       "      <td>295</td>\n",
       "    </tr>\n",
       "    <tr>\n",
       "      <th>4</th>\n",
       "      <td>5</td>\n",
       "      <td>Pakistan</td>\n",
       "      <td>136</td>\n",
       "      <td>208</td>\n",
       "      <td>245</td>\n",
       "    </tr>\n",
       "  </tbody>\n",
       "</table>\n",
       "</div>"
      ],
      "text/plain": [
       "   # Most populous countries  2000  2015 2030[A]\n",
       "0  1                China[B]  1270  1376    1416\n",
       "1  2                   India  1053  1311    1528\n",
       "2  3           United States   283   322     356\n",
       "3  4               Indonesia   212   258     295\n",
       "4  5                Pakistan   136   208     245"
      ]
     },
     "execution_count": 10,
     "metadata": {},
     "output_type": "execute_result"
    }
   ],
   "source": [
    "df1.head() "
   ]
  },
  {
   "cell_type": "code",
   "execution_count": 11,
   "metadata": {},
   "outputs": [
    {
     "data": {
      "text/plain": [
       "(12, 5)"
      ]
     },
     "execution_count": 11,
     "metadata": {},
     "output_type": "execute_result"
    }
   ],
   "source": [
    "df1.shape \n",
    "# its a small, simple table from wikipedia."
   ]
  },
  {
   "cell_type": "code",
   "execution_count": 12,
   "metadata": {},
   "outputs": [
    {
     "name": "stdout",
     "output_type": "stream",
     "text": [
      "<class 'pandas.core.frame.DataFrame'>\n",
      "RangeIndex: 12 entries, 0 to 11\n",
      "Data columns (total 5 columns):\n",
      " #   Column                   Non-Null Count  Dtype \n",
      "---  ------                   --------------  ----- \n",
      " 0   #                        11 non-null     object\n",
      " 1   Most populous countries  12 non-null     object\n",
      " 2   2000                     12 non-null     object\n",
      " 3   2015                     12 non-null     object\n",
      " 4   2030[A]                  12 non-null     object\n",
      "dtypes: object(5)\n",
      "memory usage: 608.0+ bytes\n"
     ]
    }
   ],
   "source": [
    "df1.info()\n",
    "# there are no null values in this data frame."
   ]
  },
  {
   "cell_type": "code",
   "execution_count": 13,
   "metadata": {},
   "outputs": [
    {
     "data": {
      "text/html": [
       "<div>\n",
       "<style scoped>\n",
       "    .dataframe tbody tr th:only-of-type {\n",
       "        vertical-align: middle;\n",
       "    }\n",
       "\n",
       "    .dataframe tbody tr th {\n",
       "        vertical-align: top;\n",
       "    }\n",
       "\n",
       "    .dataframe thead th {\n",
       "        text-align: right;\n",
       "    }\n",
       "</style>\n",
       "<table border=\"1\" class=\"dataframe\">\n",
       "  <thead>\n",
       "    <tr style=\"text-align: right;\">\n",
       "      <th></th>\n",
       "      <th>#</th>\n",
       "      <th>Most populous countries</th>\n",
       "      <th>2000</th>\n",
       "      <th>2015</th>\n",
       "      <th>2030[A]</th>\n",
       "    </tr>\n",
       "  </thead>\n",
       "  <tbody>\n",
       "    <tr>\n",
       "      <th>0</th>\n",
       "      <td>1</td>\n",
       "      <td>China[B]</td>\n",
       "      <td>1270</td>\n",
       "      <td>1376</td>\n",
       "      <td>1416</td>\n",
       "    </tr>\n",
       "    <tr>\n",
       "      <th>1</th>\n",
       "      <td>2</td>\n",
       "      <td>India</td>\n",
       "      <td>1053</td>\n",
       "      <td>1311</td>\n",
       "      <td>1528</td>\n",
       "    </tr>\n",
       "    <tr>\n",
       "      <th>2</th>\n",
       "      <td>3</td>\n",
       "      <td>United States</td>\n",
       "      <td>283</td>\n",
       "      <td>322</td>\n",
       "      <td>356</td>\n",
       "    </tr>\n",
       "    <tr>\n",
       "      <th>3</th>\n",
       "      <td>4</td>\n",
       "      <td>Indonesia</td>\n",
       "      <td>212</td>\n",
       "      <td>258</td>\n",
       "      <td>295</td>\n",
       "    </tr>\n",
       "    <tr>\n",
       "      <th>4</th>\n",
       "      <td>5</td>\n",
       "      <td>Pakistan</td>\n",
       "      <td>136</td>\n",
       "      <td>208</td>\n",
       "      <td>245</td>\n",
       "    </tr>\n",
       "    <tr>\n",
       "      <th>5</th>\n",
       "      <td>6</td>\n",
       "      <td>Brazil</td>\n",
       "      <td>176</td>\n",
       "      <td>206</td>\n",
       "      <td>228</td>\n",
       "    </tr>\n",
       "    <tr>\n",
       "      <th>6</th>\n",
       "      <td>7</td>\n",
       "      <td>Nigeria</td>\n",
       "      <td>123</td>\n",
       "      <td>182</td>\n",
       "      <td>263</td>\n",
       "    </tr>\n",
       "    <tr>\n",
       "      <th>7</th>\n",
       "      <td>8</td>\n",
       "      <td>Bangladesh</td>\n",
       "      <td>131</td>\n",
       "      <td>161</td>\n",
       "      <td>186</td>\n",
       "    </tr>\n",
       "    <tr>\n",
       "      <th>8</th>\n",
       "      <td>9</td>\n",
       "      <td>Russia</td>\n",
       "      <td>146</td>\n",
       "      <td>146</td>\n",
       "      <td>149</td>\n",
       "    </tr>\n",
       "    <tr>\n",
       "      <th>9</th>\n",
       "      <td>10</td>\n",
       "      <td>Mexico</td>\n",
       "      <td>103</td>\n",
       "      <td>127</td>\n",
       "      <td>148</td>\n",
       "    </tr>\n",
       "    <tr>\n",
       "      <th>10</th>\n",
       "      <td>NaN</td>\n",
       "      <td>World total</td>\n",
       "      <td>6127</td>\n",
       "      <td>7349</td>\n",
       "      <td>8501</td>\n",
       "    </tr>\n",
       "    <tr>\n",
       "      <th>11</th>\n",
       "      <td>Notes: .mw-parser-output .reflist{font-size:90...</td>\n",
       "      <td>Notes: .mw-parser-output .reflist{font-size:90...</td>\n",
       "      <td>Notes: .mw-parser-output .reflist{font-size:90...</td>\n",
       "      <td>Notes: .mw-parser-output .reflist{font-size:90...</td>\n",
       "      <td>Notes: .mw-parser-output .reflist{font-size:90...</td>\n",
       "    </tr>\n",
       "  </tbody>\n",
       "</table>\n",
       "</div>"
      ],
      "text/plain": [
       "                                                    #  \\\n",
       "0                                                   1   \n",
       "1                                                   2   \n",
       "2                                                   3   \n",
       "3                                                   4   \n",
       "4                                                   5   \n",
       "5                                                   6   \n",
       "6                                                   7   \n",
       "7                                                   8   \n",
       "8                                                   9   \n",
       "9                                                  10   \n",
       "10                                                NaN   \n",
       "11  Notes: .mw-parser-output .reflist{font-size:90...   \n",
       "\n",
       "                              Most populous countries  \\\n",
       "0                                            China[B]   \n",
       "1                                               India   \n",
       "2                                       United States   \n",
       "3                                           Indonesia   \n",
       "4                                            Pakistan   \n",
       "5                                              Brazil   \n",
       "6                                             Nigeria   \n",
       "7                                          Bangladesh   \n",
       "8                                              Russia   \n",
       "9                                              Mexico   \n",
       "10                                        World total   \n",
       "11  Notes: .mw-parser-output .reflist{font-size:90...   \n",
       "\n",
       "                                                 2000  \\\n",
       "0                                                1270   \n",
       "1                                                1053   \n",
       "2                                                 283   \n",
       "3                                                 212   \n",
       "4                                                 136   \n",
       "5                                                 176   \n",
       "6                                                 123   \n",
       "7                                                 131   \n",
       "8                                                 146   \n",
       "9                                                 103   \n",
       "10                                               6127   \n",
       "11  Notes: .mw-parser-output .reflist{font-size:90...   \n",
       "\n",
       "                                                 2015  \\\n",
       "0                                                1376   \n",
       "1                                                1311   \n",
       "2                                                 322   \n",
       "3                                                 258   \n",
       "4                                                 208   \n",
       "5                                                 206   \n",
       "6                                                 182   \n",
       "7                                                 161   \n",
       "8                                                 146   \n",
       "9                                                 127   \n",
       "10                                               7349   \n",
       "11  Notes: .mw-parser-output .reflist{font-size:90...   \n",
       "\n",
       "                                              2030[A]  \n",
       "0                                                1416  \n",
       "1                                                1528  \n",
       "2                                                 356  \n",
       "3                                                 295  \n",
       "4                                                 245  \n",
       "5                                                 228  \n",
       "6                                                 263  \n",
       "7                                                 186  \n",
       "8                                                 149  \n",
       "9                                                 148  \n",
       "10                                               8501  \n",
       "11  Notes: .mw-parser-output .reflist{font-size:90...  "
      ]
     },
     "execution_count": 13,
     "metadata": {},
     "output_type": "execute_result"
    }
   ],
   "source": [
    "df1"
   ]
  },
  {
   "cell_type": "markdown",
   "metadata": {},
   "source": [
    "The last three columns have the `object` data type.<br/>\n",
    "I'll need to convert them to `int` data types so I can work with them."
   ]
  },
  {
   "cell_type": "markdown",
   "metadata": {},
   "source": [
    "Time to perform some data cleaning.<br/>\n",
    "Drop the first column"
   ]
  },
  {
   "cell_type": "code",
   "execution_count": 14,
   "metadata": {},
   "outputs": [],
   "source": [
    "# Dropping the first column labelled '#'\n",
    "df1.drop('#', axis=1, inplace=True)"
   ]
  },
  {
   "cell_type": "code",
   "execution_count": 15,
   "metadata": {},
   "outputs": [
    {
     "data": {
      "text/html": [
       "<div>\n",
       "<style scoped>\n",
       "    .dataframe tbody tr th:only-of-type {\n",
       "        vertical-align: middle;\n",
       "    }\n",
       "\n",
       "    .dataframe tbody tr th {\n",
       "        vertical-align: top;\n",
       "    }\n",
       "\n",
       "    .dataframe thead th {\n",
       "        text-align: right;\n",
       "    }\n",
       "</style>\n",
       "<table border=\"1\" class=\"dataframe\">\n",
       "  <thead>\n",
       "    <tr style=\"text-align: right;\">\n",
       "      <th></th>\n",
       "      <th>Most populous countries</th>\n",
       "      <th>2000</th>\n",
       "      <th>2015</th>\n",
       "      <th>2030[A]</th>\n",
       "    </tr>\n",
       "  </thead>\n",
       "  <tbody>\n",
       "    <tr>\n",
       "      <th>0</th>\n",
       "      <td>China[B]</td>\n",
       "      <td>1270</td>\n",
       "      <td>1376</td>\n",
       "      <td>1416</td>\n",
       "    </tr>\n",
       "    <tr>\n",
       "      <th>1</th>\n",
       "      <td>India</td>\n",
       "      <td>1053</td>\n",
       "      <td>1311</td>\n",
       "      <td>1528</td>\n",
       "    </tr>\n",
       "    <tr>\n",
       "      <th>2</th>\n",
       "      <td>United States</td>\n",
       "      <td>283</td>\n",
       "      <td>322</td>\n",
       "      <td>356</td>\n",
       "    </tr>\n",
       "    <tr>\n",
       "      <th>3</th>\n",
       "      <td>Indonesia</td>\n",
       "      <td>212</td>\n",
       "      <td>258</td>\n",
       "      <td>295</td>\n",
       "    </tr>\n",
       "    <tr>\n",
       "      <th>4</th>\n",
       "      <td>Pakistan</td>\n",
       "      <td>136</td>\n",
       "      <td>208</td>\n",
       "      <td>245</td>\n",
       "    </tr>\n",
       "    <tr>\n",
       "      <th>5</th>\n",
       "      <td>Brazil</td>\n",
       "      <td>176</td>\n",
       "      <td>206</td>\n",
       "      <td>228</td>\n",
       "    </tr>\n",
       "    <tr>\n",
       "      <th>6</th>\n",
       "      <td>Nigeria</td>\n",
       "      <td>123</td>\n",
       "      <td>182</td>\n",
       "      <td>263</td>\n",
       "    </tr>\n",
       "    <tr>\n",
       "      <th>7</th>\n",
       "      <td>Bangladesh</td>\n",
       "      <td>131</td>\n",
       "      <td>161</td>\n",
       "      <td>186</td>\n",
       "    </tr>\n",
       "    <tr>\n",
       "      <th>8</th>\n",
       "      <td>Russia</td>\n",
       "      <td>146</td>\n",
       "      <td>146</td>\n",
       "      <td>149</td>\n",
       "    </tr>\n",
       "    <tr>\n",
       "      <th>9</th>\n",
       "      <td>Mexico</td>\n",
       "      <td>103</td>\n",
       "      <td>127</td>\n",
       "      <td>148</td>\n",
       "    </tr>\n",
       "    <tr>\n",
       "      <th>10</th>\n",
       "      <td>World total</td>\n",
       "      <td>6127</td>\n",
       "      <td>7349</td>\n",
       "      <td>8501</td>\n",
       "    </tr>\n",
       "    <tr>\n",
       "      <th>11</th>\n",
       "      <td>Notes: .mw-parser-output .reflist{font-size:90...</td>\n",
       "      <td>Notes: .mw-parser-output .reflist{font-size:90...</td>\n",
       "      <td>Notes: .mw-parser-output .reflist{font-size:90...</td>\n",
       "      <td>Notes: .mw-parser-output .reflist{font-size:90...</td>\n",
       "    </tr>\n",
       "  </tbody>\n",
       "</table>\n",
       "</div>"
      ],
      "text/plain": [
       "                              Most populous countries  \\\n",
       "0                                            China[B]   \n",
       "1                                               India   \n",
       "2                                       United States   \n",
       "3                                           Indonesia   \n",
       "4                                            Pakistan   \n",
       "5                                              Brazil   \n",
       "6                                             Nigeria   \n",
       "7                                          Bangladesh   \n",
       "8                                              Russia   \n",
       "9                                              Mexico   \n",
       "10                                        World total   \n",
       "11  Notes: .mw-parser-output .reflist{font-size:90...   \n",
       "\n",
       "                                                 2000  \\\n",
       "0                                                1270   \n",
       "1                                                1053   \n",
       "2                                                 283   \n",
       "3                                                 212   \n",
       "4                                                 136   \n",
       "5                                                 176   \n",
       "6                                                 123   \n",
       "7                                                 131   \n",
       "8                                                 146   \n",
       "9                                                 103   \n",
       "10                                               6127   \n",
       "11  Notes: .mw-parser-output .reflist{font-size:90...   \n",
       "\n",
       "                                                 2015  \\\n",
       "0                                                1376   \n",
       "1                                                1311   \n",
       "2                                                 322   \n",
       "3                                                 258   \n",
       "4                                                 208   \n",
       "5                                                 206   \n",
       "6                                                 182   \n",
       "7                                                 161   \n",
       "8                                                 146   \n",
       "9                                                 127   \n",
       "10                                               7349   \n",
       "11  Notes: .mw-parser-output .reflist{font-size:90...   \n",
       "\n",
       "                                              2030[A]  \n",
       "0                                                1416  \n",
       "1                                                1528  \n",
       "2                                                 356  \n",
       "3                                                 295  \n",
       "4                                                 245  \n",
       "5                                                 228  \n",
       "6                                                 263  \n",
       "7                                                 186  \n",
       "8                                                 149  \n",
       "9                                                 148  \n",
       "10                                               8501  \n",
       "11  Notes: .mw-parser-output .reflist{font-size:90...  "
      ]
     },
     "execution_count": 15,
     "metadata": {},
     "output_type": "execute_result"
    }
   ],
   "source": [
    "df1 "
   ]
  },
  {
   "cell_type": "markdown",
   "metadata": {},
   "source": [
    "Drop the last two rows "
   ]
  },
  {
   "cell_type": "code",
   "execution_count": 16,
   "metadata": {},
   "outputs": [],
   "source": [
    "df1.drop([10, 11], axis=0, inplace=True)"
   ]
  },
  {
   "cell_type": "code",
   "execution_count": 17,
   "metadata": {},
   "outputs": [
    {
     "name": "stdout",
     "output_type": "stream",
     "text": [
      "<class 'pandas.core.frame.DataFrame'>\n",
      "Int64Index: 10 entries, 0 to 9\n",
      "Data columns (total 4 columns):\n",
      " #   Column                   Non-Null Count  Dtype \n",
      "---  ------                   --------------  ----- \n",
      " 0   Most populous countries  10 non-null     object\n",
      " 1   2000                     10 non-null     object\n",
      " 2   2015                     10 non-null     object\n",
      " 3   2030[A]                  10 non-null     object\n",
      "dtypes: object(4)\n",
      "memory usage: 400.0+ bytes\n"
     ]
    }
   ],
   "source": [
    "df1.info()"
   ]
  },
  {
   "cell_type": "markdown",
   "metadata": {},
   "source": [
    "Time to change column names."
   ]
  },
  {
   "cell_type": "code",
   "execution_count": 18,
   "metadata": {},
   "outputs": [],
   "source": [
    "# Change column names \n",
    "columns = ['countries', '2000_pop', '2015_pop', '2030_pop']"
   ]
  },
  {
   "cell_type": "code",
   "execution_count": 19,
   "metadata": {},
   "outputs": [],
   "source": [
    "df1.columns = columns # assign new column names "
   ]
  },
  {
   "cell_type": "code",
   "execution_count": 20,
   "metadata": {},
   "outputs": [
    {
     "data": {
      "text/html": [
       "<div>\n",
       "<style scoped>\n",
       "    .dataframe tbody tr th:only-of-type {\n",
       "        vertical-align: middle;\n",
       "    }\n",
       "\n",
       "    .dataframe tbody tr th {\n",
       "        vertical-align: top;\n",
       "    }\n",
       "\n",
       "    .dataframe thead th {\n",
       "        text-align: right;\n",
       "    }\n",
       "</style>\n",
       "<table border=\"1\" class=\"dataframe\">\n",
       "  <thead>\n",
       "    <tr style=\"text-align: right;\">\n",
       "      <th></th>\n",
       "      <th>countries</th>\n",
       "      <th>2000_pop</th>\n",
       "      <th>2015_pop</th>\n",
       "      <th>2030_pop</th>\n",
       "    </tr>\n",
       "  </thead>\n",
       "  <tbody>\n",
       "    <tr>\n",
       "      <th>0</th>\n",
       "      <td>China[B]</td>\n",
       "      <td>1270</td>\n",
       "      <td>1376</td>\n",
       "      <td>1416</td>\n",
       "    </tr>\n",
       "    <tr>\n",
       "      <th>1</th>\n",
       "      <td>India</td>\n",
       "      <td>1053</td>\n",
       "      <td>1311</td>\n",
       "      <td>1528</td>\n",
       "    </tr>\n",
       "    <tr>\n",
       "      <th>2</th>\n",
       "      <td>United States</td>\n",
       "      <td>283</td>\n",
       "      <td>322</td>\n",
       "      <td>356</td>\n",
       "    </tr>\n",
       "    <tr>\n",
       "      <th>3</th>\n",
       "      <td>Indonesia</td>\n",
       "      <td>212</td>\n",
       "      <td>258</td>\n",
       "      <td>295</td>\n",
       "    </tr>\n",
       "    <tr>\n",
       "      <th>4</th>\n",
       "      <td>Pakistan</td>\n",
       "      <td>136</td>\n",
       "      <td>208</td>\n",
       "      <td>245</td>\n",
       "    </tr>\n",
       "    <tr>\n",
       "      <th>5</th>\n",
       "      <td>Brazil</td>\n",
       "      <td>176</td>\n",
       "      <td>206</td>\n",
       "      <td>228</td>\n",
       "    </tr>\n",
       "    <tr>\n",
       "      <th>6</th>\n",
       "      <td>Nigeria</td>\n",
       "      <td>123</td>\n",
       "      <td>182</td>\n",
       "      <td>263</td>\n",
       "    </tr>\n",
       "    <tr>\n",
       "      <th>7</th>\n",
       "      <td>Bangladesh</td>\n",
       "      <td>131</td>\n",
       "      <td>161</td>\n",
       "      <td>186</td>\n",
       "    </tr>\n",
       "    <tr>\n",
       "      <th>8</th>\n",
       "      <td>Russia</td>\n",
       "      <td>146</td>\n",
       "      <td>146</td>\n",
       "      <td>149</td>\n",
       "    </tr>\n",
       "    <tr>\n",
       "      <th>9</th>\n",
       "      <td>Mexico</td>\n",
       "      <td>103</td>\n",
       "      <td>127</td>\n",
       "      <td>148</td>\n",
       "    </tr>\n",
       "  </tbody>\n",
       "</table>\n",
       "</div>"
      ],
      "text/plain": [
       "       countries 2000_pop 2015_pop 2030_pop\n",
       "0       China[B]     1270     1376     1416\n",
       "1          India     1053     1311     1528\n",
       "2  United States      283      322      356\n",
       "3      Indonesia      212      258      295\n",
       "4       Pakistan      136      208      245\n",
       "5         Brazil      176      206      228\n",
       "6        Nigeria      123      182      263\n",
       "7     Bangladesh      131      161      186\n",
       "8         Russia      146      146      149\n",
       "9         Mexico      103      127      148"
      ]
     },
     "execution_count": 20,
     "metadata": {},
     "output_type": "execute_result"
    }
   ],
   "source": [
    "df1"
   ]
  },
  {
   "cell_type": "code",
   "execution_count": 21,
   "metadata": {},
   "outputs": [],
   "source": [
    "# Change 'China[B]' to 'China'\n",
    "df1.countries.replace({'China[B]':'China'}, inplace=True)"
   ]
  },
  {
   "cell_type": "markdown",
   "metadata": {},
   "source": [
    "Change the data type of the last three `columns` to _int_.<br/>\n",
    "So I can make simple plots."
   ]
  },
  {
   "cell_type": "code",
   "execution_count": 22,
   "metadata": {},
   "outputs": [],
   "source": [
    "convert = {\n",
    "    '2000_pop': int,\n",
    "    '2015_pop': int,\n",
    "    '2030_pop': int\n",
    "}\n",
    "\n",
    "df1 = df1.astype(convert)"
   ]
  },
  {
   "cell_type": "code",
   "execution_count": 23,
   "metadata": {},
   "outputs": [
    {
     "name": "stdout",
     "output_type": "stream",
     "text": [
      "<class 'pandas.core.frame.DataFrame'>\n",
      "Int64Index: 10 entries, 0 to 9\n",
      "Data columns (total 4 columns):\n",
      " #   Column     Non-Null Count  Dtype \n",
      "---  ------     --------------  ----- \n",
      " 0   countries  10 non-null     object\n",
      " 1   2000_pop   10 non-null     int32 \n",
      " 2   2015_pop   10 non-null     int32 \n",
      " 3   2030_pop   10 non-null     int32 \n",
      "dtypes: int32(3), object(1)\n",
      "memory usage: 280.0+ bytes\n"
     ]
    }
   ],
   "source": [
    "df1.info()"
   ]
  },
  {
   "cell_type": "markdown",
   "metadata": {},
   "source": [
    "### Visulizations With Matplotlib"
   ]
  },
  {
   "cell_type": "code",
   "execution_count": 24,
   "metadata": {},
   "outputs": [
    {
     "data": {
      "image/png": "[encoded data removed]",
      "text/plain": [
       "<Figure size 1080x432 with 2 Axes>"
      ]
     },
     "metadata": {
      "needs_background": "light"
     },
     "output_type": "display_data"
    }
   ],
   "source": [
    "plt.subplots(nrows=1, ncols=2, figsize=(15, 6))\n",
    "\n",
    "plt.subplot(1, 2, 1)\n",
    "plt.scatter(df1.countries, df1['2000_pop'])\n",
    "plt.title('Most Populous Countries in 2000', pad=20)\n",
    "plt.xlabel('Countries', labelpad=10, fontdict={'fontweight': 'bold'})\n",
    "plt.ylabel('population in billions')\n",
    "plt.yticks([200, 400, 600, 800, 1000, 1200],\n",
    "            ['0.2B', '0.4B', '0.6B', '0.8B', '1.0B', '1.2B'])\n",
    "plt.xticks(rotation=45)\n",
    "\n",
    "\n",
    "plt.subplot(1, 2, 2)\n",
    "plt.scatter(df1.countries, df1['2015_pop'])\n",
    "plt.title('Most Populous Countries in 2015', pad=20)\n",
    "plt.xlabel('Countries', labelpad=10, fontdict={'fontweight': 'bold'})\n",
    "plt.ylabel('population in billions')\n",
    "plt.yticks([200, 400, 600, 800, 1000, 1200, 1400],\n",
    "            ['0.2B', '0.4B', '0.6B', '0.8B', '1.0B', '1.2B', '1.4B'])\n",
    "plt.xticks(rotation=45)\n",
    "plt.show()"
   ]
  },
  {
   "cell_type": "code",
   "execution_count": 25,
   "metadata": {},
   "outputs": [
    {
     "data": {
      "image/png": "[encoded data removed]",
      "text/plain": [
       "<Figure size 720x432 with 1 Axes>"
      ]
     },
     "metadata": {
      "needs_background": "light"
     },
     "output_type": "display_data"
    }
   ],
   "source": [
    "plt.figure(figsize=(10,6))\n",
    "sns.barplot(x=\"countries\", y=\"2030_pop\", data=df1)\n",
    "plt.title('Population Projections For 2030')\n",
    "plt.ylabel('population in billions')\n",
    "\n",
    "plt.yticks([200, 400, 600, 800, 1000, 1200, 1400, 1600],\n",
    "            ['0.2B', '0.4B', '0.6B', '0.8B', '1.0B', '1.2B', '1.4B', '1.6B'])\n",
    "plt.show()"
   ]
  },
  {
   "cell_type": "markdown",
   "metadata": {},
   "source": [
    "India might be the most populous conutry in the world by `2030`"
   ]
  },
  {
   "cell_type": "markdown",
   "metadata": {},
   "source": []
  }
 ],
 "metadata": {
  "interpreter": {
   "hash": "ad2bdc8ecc057115af97d19610ffacc2b4e99fae6737bb82f5d7fb13d2f2c186"
  },
  "kernelspec": {
   "display_name": "Python 3.8.8 ('base')",
   "language": "python",
   "name": "python3"
  },
  "language_info": {
   "codemirror_mode": {
    "name": "ipython",
    "version": 3
   },
   "file_extension": ".py",
   "mimetype": "text/x-python",
   "name": "python",
   "nbconvert_exporter": "python",
   "pygments_lexer": "ipython3",
   "version": "3.8.8"
  },
  "orig_nbformat": 4
 },
 "nbformat": 4,
 "nbformat_minor": 2
}
